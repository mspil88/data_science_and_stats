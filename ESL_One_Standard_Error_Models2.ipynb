{
 "cells": [
  {
   "cell_type": "markdown",
   "metadata": {},
   "source": [
    "# Exploring the One Standard Error rule WIP "
   ]
  },
  {
   "cell_type": "markdown",
   "metadata": {},
   "source": [
    "### The following notebook is inspired by chapter 3 of The Elements of Statistical Learning. Using the prostate cancer dataset I recreate the regression analysis in that chapter, comparing OLS, Ridge, Lasso and Partial Least Squares estimators and the application of the 'one standard error' rule to determine a more parsimonious model fit. "
   ]
  },
  {
   "cell_type": "code",
   "execution_count": 242,
   "metadata": {},
   "outputs": [],
   "source": [
    "import pandas as pd\n",
    "import numpy as np\n",
    "from scipy.stats import t\n",
    "from matplotlib import pyplot as plt\n",
    "from sklearn.cross_decomposition import PLSRegression\n",
    "from sklearn.model_selection import KFold\n",
    "from sklearn.model_selection import cross_val_score, GridSearchCV\n",
    "from sklearn.linear_model import LinearRegression, Ridge, Lasso\n",
    "from sklearn.metrics import mean_squared_error\n"
   ]
  },
  {
   "cell_type": "markdown",
   "metadata": {},
   "source": [
    "#### Simple utility functions to process the data. The original training and test sets are indicated by the 'train' column. For this analysis I keep the test set held out until the end."
   ]
  },
  {
   "cell_type": "code",
   "execution_count": 243,
   "metadata": {},
   "outputs": [],
   "source": [
    "def data_proc(data_loc:str):\n",
    "    '''Returns training and test sets as well as a list containing feature names'''\n",
    "    \n",
    "    cols = pd.read_csv(\"../data/ISLR_ESLR/prostate.csv\", nrows=0)\n",
    "    data = pd.read_csv(\"../data/ISLR_ESLR/prostate.csv\", usecols = [i for i in cols if i != 'id'])\n",
    "    \n",
    "    target = 'lpsa'\n",
    "    features = ['lcavol', 'lweight', 'age', 'lbph', 'svi', 'lcp', 'gleason', 'pgg45']\n",
    "    \n",
    "    X, y = data[features].values, data[target].values\n",
    "    train_idx = data.train==\"T\"\n",
    "    X_train, y_train = X[train_idx], y[train_idx]\n",
    "    X_test, y_test = X[~train_idx], y[~train_idx]\n",
    "    \n",
    "    \n",
    "    \n",
    "    return X_train, y_train, X_test, y_test, features\n",
    "\n",
    "def standardiser(X):\n",
    "    '''Returns a standardised matrix for a given input X'''\n",
    "    mu = np.mean(X, axis=0)\n",
    "    sd = np.std(X, axis=0)\n",
    "    return (X-mu)/sd\n"
   ]
  },
  {
   "cell_type": "code",
   "execution_count": 244,
   "metadata": {},
   "outputs": [],
   "source": [
    "X_train, y_train, X_test, y_test, features = data_proc(r\"C:\\Users\\matth\\Documents\\python\\ISLR_ESLR\\prostate.csv\")"
   ]
  },
  {
   "cell_type": "code",
   "execution_count": 245,
   "metadata": {},
   "outputs": [],
   "source": [
    "X_train = standardiser(X_train)\n",
    "X_test = standardiser(X_test)"
   ]
  },
  {
   "cell_type": "markdown",
   "metadata": {},
   "source": [
    "### OLS\n",
    "#### To make this bit more interesting I create my own OLS class."
   ]
  },
  {
   "cell_type": "code",
   "execution_count": 246,
   "metadata": {},
   "outputs": [],
   "source": [
    "class OLS:\n",
    "    '''Performs ordinary least squares regression for a given input matrix X and dependent variably vector y\n",
    "    \n",
    "    This class can return a prediction vector, coefficient of determination, mean squared error and \n",
    "    a summary of coefficients, standard errors, t values and p-values\n",
    "    '''\n",
    "    def __init__(self, feature_labels=None, mean_regression=False):\n",
    "        self.features = feature_labels\n",
    "        self.mean_reg = mean_regression\n",
    "        if mean_regression:\n",
    "            self.features = 'mean'\n",
    "            self.mean_reg = True\n",
    "        \n",
    "    def fit(self, X,y):\n",
    "        if self.mean_reg:\n",
    "            X = np.ones((X.shape[0],1))\n",
    "        else:\n",
    "            X = np.hstack((np.ones((X.shape[0],1)),X))\n",
    "        coefs = np.dot(np.linalg.inv(np.dot(X.T,X)),np.dot(X.T, y))\n",
    "        self.coefs = np.round(coefs,3)\n",
    "        self.intercept = coefs[0]\n",
    "        self.m = X.shape[0]\n",
    "        self.n = len(coefs)\n",
    "        self.mse = self._mse(X,y, coefs)\n",
    "        self.coef_se = np.round(self._coef_se(X),3)\n",
    "        self.t_values = np.round(self._t_values(),3)\n",
    "        self.p_values = np.round(self._p_values(),3)\n",
    "        self.r_squared = self.__r_squared(y)\n",
    "    \n",
    "    def _mse(self, X, y, coefs):\n",
    "        self.y_pred = np.dot(X,coefs) \n",
    "        return np.sum((y-self.y_pred)**2)/(self.m-self.n)\n",
    "    \n",
    "    def predict(self,X):\n",
    "        if not self.mean_reg:\n",
    "            return np.dot(X,self.coefs[1:]) + self.intercept\n",
    "        else:\n",
    "            return self.coefs\n",
    "        \n",
    "    def _coef_se(self,X):\n",
    "        var = self.mse*np.diag(np.linalg.inv(np.dot(X.T,X)))\n",
    "        return np.sqrt(var)\n",
    "\n",
    "    def _t_values(self):\n",
    "        return self.coefs/self.coef_se\n",
    "    \n",
    "    def _p_values(self):\n",
    "        return [(1-t.cdf(abs(i), df=self.m-self.n))*2 for i in self.t_values]\n",
    "    \n",
    "    def __r_squared(self,y):\n",
    "        self.df = self.m - self.n\n",
    "        y_mu = np.mean(y)\n",
    "        return 1 - (np.sum((y-self.y_pred)**2/(self.df))/np.sum((y-y_mu)**2/(self.df)))\n",
    "    \n",
    "    def summary(self):\n",
    "        output = zip(['intercept']+list(ols.features),list(ols.coefs),list(ols.coef_se),\n",
    "                     list(ols.t_values),list(ols.p_values))\n",
    "        print('variable            coef          se      tstat   pvalue')\n",
    "        print('--------------------------------------------------------')\n",
    "        for variable, coef, se, tstat, pvalue in output:\n",
    "            print(f'{variable:>10}{coef:>14.2f}{se:>13.2f}{tstat:>10.2f}{pvalue:>9.2f}')\n"
   ]
  },
  {
   "cell_type": "code",
   "execution_count": 247,
   "metadata": {},
   "outputs": [
    {
     "name": "stdout",
     "output_type": "stream",
     "text": [
      "variable            coef          se      tstat   pvalue\n",
      "--------------------------------------------------------\n",
      " intercept          2.45         0.09     28.18     0.00\n",
      "    lcavol          0.71         0.13      5.35     0.00\n",
      "   lweight          0.29         0.11      2.74     0.01\n",
      "       age         -0.14         0.10     -1.40     0.17\n",
      "      lbph          0.21         0.10      2.06     0.04\n",
      "       svi          0.31         0.12      2.48     0.02\n",
      "       lcp         -0.29         0.15     -1.86     0.07\n",
      "   gleason         -0.02         0.14     -0.15     0.88\n",
      "     pgg45          0.28         0.16      1.74     0.09\n"
     ]
    }
   ],
   "source": [
    "ols = OLS(feature_labels=features)\n",
    "ols.fit(X_train, y_train)\n",
    "ols.summary()"
   ]
  },
  {
   "cell_type": "markdown",
   "metadata": {},
   "source": [
    "#### In order to validate the outputs I compare my outputs with the results of Statsmodels OLS class, happily they check out."
   ]
  },
  {
   "cell_type": "code",
   "execution_count": 248,
   "metadata": {},
   "outputs": [
    {
     "data": {
      "text/html": [
       "<table class=\"simpletable\">\n",
       "<caption>OLS Regression Results</caption>\n",
       "<tr>\n",
       "  <th>Dep. Variable:</th>            <td>y</td>        <th>  R-squared:         </th> <td>   0.694</td>\n",
       "</tr>\n",
       "<tr>\n",
       "  <th>Model:</th>                   <td>OLS</td>       <th>  Adj. R-squared:    </th> <td>   0.652</td>\n",
       "</tr>\n",
       "<tr>\n",
       "  <th>Method:</th>             <td>Least Squares</td>  <th>  F-statistic:       </th> <td>   16.47</td>\n",
       "</tr>\n",
       "<tr>\n",
       "  <th>Date:</th>             <td>Sun, 13 Dec 2020</td> <th>  Prob (F-statistic):</th> <td>2.04e-12</td>\n",
       "</tr>\n",
       "<tr>\n",
       "  <th>Time:</th>                 <td>18:03:37</td>     <th>  Log-Likelihood:    </th> <td> -67.505</td>\n",
       "</tr>\n",
       "<tr>\n",
       "  <th>No. Observations:</th>      <td>    67</td>      <th>  AIC:               </th> <td>   153.0</td>\n",
       "</tr>\n",
       "<tr>\n",
       "  <th>Df Residuals:</th>          <td>    58</td>      <th>  BIC:               </th> <td>   172.9</td>\n",
       "</tr>\n",
       "<tr>\n",
       "  <th>Df Model:</th>              <td>     8</td>      <th>                     </th>     <td> </td>   \n",
       "</tr>\n",
       "<tr>\n",
       "  <th>Covariance Type:</th>      <td>nonrobust</td>    <th>                     </th>     <td> </td>   \n",
       "</tr>\n",
       "</table>\n",
       "<table class=\"simpletable\">\n",
       "<tr>\n",
       "    <td></td>       <th>coef</th>     <th>std err</th>      <th>t</th>      <th>P>|t|</th>  <th>[0.025</th>    <th>0.975]</th>  \n",
       "</tr>\n",
       "<tr>\n",
       "  <th>const</th> <td>    2.4523</td> <td>    0.087</td> <td>   28.182</td> <td> 0.000</td> <td>    2.278</td> <td>    2.627</td>\n",
       "</tr>\n",
       "<tr>\n",
       "  <th>x1</th>    <td>    0.7110</td> <td>    0.133</td> <td>    5.366</td> <td> 0.000</td> <td>    0.446</td> <td>    0.976</td>\n",
       "</tr>\n",
       "<tr>\n",
       "  <th>x2</th>    <td>    0.2905</td> <td>    0.106</td> <td>    2.751</td> <td> 0.008</td> <td>    0.079</td> <td>    0.502</td>\n",
       "</tr>\n",
       "<tr>\n",
       "  <th>x3</th>    <td>   -0.1415</td> <td>    0.101</td> <td>   -1.396</td> <td> 0.168</td> <td>   -0.344</td> <td>    0.061</td>\n",
       "</tr>\n",
       "<tr>\n",
       "  <th>x4</th>    <td>    0.2104</td> <td>    0.102</td> <td>    2.056</td> <td> 0.044</td> <td>    0.006</td> <td>    0.415</td>\n",
       "</tr>\n",
       "<tr>\n",
       "  <th>x5</th>    <td>    0.3073</td> <td>    0.124</td> <td>    2.469</td> <td> 0.017</td> <td>    0.058</td> <td>    0.556</td>\n",
       "</tr>\n",
       "<tr>\n",
       "  <th>x6</th>    <td>   -0.2868</td> <td>    0.154</td> <td>   -1.867</td> <td> 0.067</td> <td>   -0.594</td> <td>    0.021</td>\n",
       "</tr>\n",
       "<tr>\n",
       "  <th>x7</th>    <td>   -0.0208</td> <td>    0.142</td> <td>   -0.147</td> <td> 0.884</td> <td>   -0.304</td> <td>    0.263</td>\n",
       "</tr>\n",
       "<tr>\n",
       "  <th>x8</th>    <td>    0.2753</td> <td>    0.158</td> <td>    1.738</td> <td> 0.088</td> <td>   -0.042</td> <td>    0.592</td>\n",
       "</tr>\n",
       "</table>\n",
       "<table class=\"simpletable\">\n",
       "<tr>\n",
       "  <th>Omnibus:</th>       <td> 0.825</td> <th>  Durbin-Watson:     </th> <td>   1.690</td>\n",
       "</tr>\n",
       "<tr>\n",
       "  <th>Prob(Omnibus):</th> <td> 0.662</td> <th>  Jarque-Bera (JB):  </th> <td>   0.389</td>\n",
       "</tr>\n",
       "<tr>\n",
       "  <th>Skew:</th>          <td>-0.164</td> <th>  Prob(JB):          </th> <td>   0.823</td>\n",
       "</tr>\n",
       "<tr>\n",
       "  <th>Kurtosis:</th>      <td> 3.178</td> <th>  Cond. No.          </th> <td>    4.44</td>\n",
       "</tr>\n",
       "</table><br/><br/>Warnings:<br/>[1] Standard Errors assume that the covariance matrix of the errors is correctly specified."
      ],
      "text/plain": [
       "<class 'statsmodels.iolib.summary.Summary'>\n",
       "\"\"\"\n",
       "                            OLS Regression Results                            \n",
       "==============================================================================\n",
       "Dep. Variable:                      y   R-squared:                       0.694\n",
       "Model:                            OLS   Adj. R-squared:                  0.652\n",
       "Method:                 Least Squares   F-statistic:                     16.47\n",
       "Date:                Sun, 13 Dec 2020   Prob (F-statistic):           2.04e-12\n",
       "Time:                        18:03:37   Log-Likelihood:                -67.505\n",
       "No. Observations:                  67   AIC:                             153.0\n",
       "Df Residuals:                      58   BIC:                             172.9\n",
       "Df Model:                           8                                         \n",
       "Covariance Type:            nonrobust                                         \n",
       "==============================================================================\n",
       "                 coef    std err          t      P>|t|      [0.025      0.975]\n",
       "------------------------------------------------------------------------------\n",
       "const          2.4523      0.087     28.182      0.000       2.278       2.627\n",
       "x1             0.7110      0.133      5.366      0.000       0.446       0.976\n",
       "x2             0.2905      0.106      2.751      0.008       0.079       0.502\n",
       "x3            -0.1415      0.101     -1.396      0.168      -0.344       0.061\n",
       "x4             0.2104      0.102      2.056      0.044       0.006       0.415\n",
       "x5             0.3073      0.124      2.469      0.017       0.058       0.556\n",
       "x6            -0.2868      0.154     -1.867      0.067      -0.594       0.021\n",
       "x7            -0.0208      0.142     -0.147      0.884      -0.304       0.263\n",
       "x8             0.2753      0.158      1.738      0.088      -0.042       0.592\n",
       "==============================================================================\n",
       "Omnibus:                        0.825   Durbin-Watson:                   1.690\n",
       "Prob(Omnibus):                  0.662   Jarque-Bera (JB):                0.389\n",
       "Skew:                          -0.164   Prob(JB):                        0.823\n",
       "Kurtosis:                       3.178   Cond. No.                         4.44\n",
       "==============================================================================\n",
       "\n",
       "Warnings:\n",
       "[1] Standard Errors assume that the covariance matrix of the errors is correctly specified.\n",
       "\"\"\""
      ]
     },
     "execution_count": 248,
     "metadata": {},
     "output_type": "execute_result"
    }
   ],
   "source": [
    "import statsmodels.api as sm\n",
    "\n",
    "statsmodels_ols = sm.OLS(y_train, sm.add_constant(X_train)).fit()\n",
    "statsmodels_ols.summary()"
   ]
  },
  {
   "cell_type": "code",
   "execution_count": 249,
   "metadata": {},
   "outputs": [
    {
     "name": "stdout",
     "output_type": "stream",
     "text": [
      "Model R Squared: 0.6943711796768237\n",
      "Model MSE: 0.5073514562053173\n"
     ]
    }
   ],
   "source": [
    "print(\"Model R Squared: {0}\".format(ols.r_squared))\n",
    "print(\"Model MSE: {0}\".format(ols.mse))"
   ]
  },
  {
   "cell_type": "markdown",
   "metadata": {},
   "source": [
    "#### The MSE on the entire training set is likely to be biased downward (overly optimistic) therefore I deploy k-fold cross validation (with k=10) and average the mean squared error across the folds. As expected this yields a higher error."
   ]
  },
  {
   "cell_type": "code",
   "execution_count": 250,
   "metadata": {},
   "outputs": [],
   "source": [
    "def mse(y, y_pred):\n",
    "    return np.sum((y-y_pred)**2)/len(y)\n",
    "\n",
    "\n",
    "\n",
    "def KFold_CV(x,y, features = None ,fold=10, kwargs_kfold={}, kwargs_ols={}):\n",
    "    \n",
    "    folds = KFold(n_splits = fold, **kwargs_kfold)\n",
    "    \n",
    "    average_error = []    \n",
    "    \n",
    "    \n",
    "    for train_idx, val_idx in folds.split(x, y):\n",
    "        x_t, x_v = x[train_idx,:], x[val_idx,:]\n",
    "        y_t, y_v = y[train_idx], y[val_idx]\n",
    "        lr = OLS(**kwargs_ols)    \n",
    "        lr.fit(x_t, y_t)\n",
    "        y_hat = lr.predict(x_v)\n",
    "        average_error.append(mse(y_v,y_hat))\n",
    "        \n",
    "    return average_error\n"
   ]
  },
  {
   "cell_type": "code",
   "execution_count": 251,
   "metadata": {},
   "outputs": [
    {
     "data": {
      "text/plain": [
       "0.5966283813018667"
      ]
     },
     "execution_count": 251,
     "metadata": {},
     "output_type": "execute_result"
    }
   ],
   "source": [
    "ols_cv_error = np.mean(KFold_CV(X_train, y_train, features, kwargs_kfold={'shuffle':True}))\n",
    "ols_cv_error"
   ]
  },
  {
   "cell_type": "code",
   "execution_count": 252,
   "metadata": {},
   "outputs": [],
   "source": [
    "ols_coefficients = ols.coefs"
   ]
  },
  {
   "cell_type": "markdown",
   "metadata": {},
   "source": [
    "#### Here I estimate a baseline model using my OLS class. This returns the mean of y_train since I am regressing y on a vector of 1's. Whilst not readily clear from the book, this model enters into all of the charts for the ridge, lasso and PLS cross-validation curves as the null model (i.e. the model with zero degrees of freedom, shrinkage and components.   "
   ]
  },
  {
   "cell_type": "code",
   "execution_count": 253,
   "metadata": {},
   "outputs": [
    {
     "data": {
      "text/plain": [
       "array([2.452])"
      ]
     },
     "execution_count": 253,
     "metadata": {},
     "output_type": "execute_result"
    }
   ],
   "source": [
    "baseline_model = OLS(mean_regression=True)\n",
    "baseline_model.fit(X_train, y_train)\n",
    "baseline_model.predict(X_train)\n"
   ]
  },
  {
   "cell_type": "markdown",
   "metadata": {},
   "source": [
    "#### The following helper functions enable me to perform k-fold cross validation over a grid of a parameters, identify a parsimonious model within one standard error of the optimal model (which minimises the validation error), plot the error curve and then choose the final optimal model to be estimated on the training data."
   ]
  },
  {
   "cell_type": "code",
   "execution_count": 254,
   "metadata": {},
   "outputs": [],
   "source": [
    "def cross_validate(X, y, model, param_hash, n_folds, **kwargs):\n",
    "    '''Performs k-fold cross validation over a grid of parameters, returning the average error per hyperparameter\n",
    "    and it's respective standard error, the model index for the best validation errorminimiser, the model within\n",
    "    one standard error of this optimial model and it's associated parameter grid'''\n",
    "    \n",
    "    #set the number of folds for cross validation \n",
    "    folds = KFold(n_splits = n_folds, shuffle=True)\n",
    "    #create a container for the optimal parameters\n",
    "    optimal_grid = {}\n",
    "    \n",
    "    #Use grid search to evaluate the cross validation errors across hyperparameters\n",
    "    gs = GridSearchCV(model, param_hash, cv=folds, scoring = 'neg_mean_squared_error',\n",
    "                      return_train_score=True, **kwargs)\n",
    "    gs.fit(X,y)\n",
    "    \n",
    "    #stack up the cross validation errors and take the mean and standard error across folds\n",
    "    cv_errors = -np.vstack([gs.cv_results_[f'split{i}_test_score'] for i in range(n_folds)]).T\n",
    "    mean_errors = np.mean(cv_errors, axis=1)\n",
    "    std_errors =  np.std(cv_errors,  axis=1)/np.sqrt(n_folds)\n",
    "    \n",
    "    #find the best model with the lowest error\n",
    "    best_idx = np.argmin(mean_errors)\n",
    "    min_error = mean_errors[best_idx]\n",
    "    min_error_sd =  std_errors[best_idx]\n",
    "    \n",
    "    #find the model within one standard error of the best model\n",
    "    one_sd_error = min_error+min_error_sd\n",
    "    one_sd_model_idx = np.argmax(mean_errors < one_sd_error)\n",
    "    \n",
    "    #record the parameters for the one standard error model\n",
    "    one_sd_model_params = list(param_hash.values())[0][one_sd_model_idx] \n",
    "    optimal_grid[list(param_hash.keys())[0]] = one_sd_model_params\n",
    "    \n",
    "    return mean_errors, std_errors, best_idx, one_sd_model_idx, optimal_grid\n",
    "\n",
    "def cv_plot(mean_errors, std_errors, param_space, one_sd_model_idx,title, xlab):\n",
    "    '''Plots the cross validation erros, standard error bars and identifies the one standard error model'''\n",
    "    fig, ax = plt.subplots(figsize=(6,6))\n",
    "    #we need to add zero to the parameter space in order to accomodate the baseline model in the plot\n",
    "    param_space = [0] + param_space\n",
    "    \n",
    "    #stack the baseline model mean and standard errors\n",
    "    mean_errors_stacked = np.hstack((baseline_mean_error, mean_errors))\n",
    "    std_errors_stacked = np.hstack((baseline_std_errors, std_errors))\n",
    "    \n",
    "    #plot the curve, add the error bars and tidy up\n",
    "    ax.plot(param_space, mean_errors_stacked, c= 'red', linewidth=0.5)\n",
    "    ax.errorbar(param_space,mean_errors_stacked, c='red', linestyle='None', marker='o',\n",
    "                elinewidth=0.5, markersize=2, yerr=std_errors_stacked, ecolor='green', capsize=3)\n",
    "    ax.axvline(x=param_space[one_sd_model_idx], c='black', linewidth=0.5, linestyle='--')\n",
    "    ax.set_xlabel(xlab)\n",
    "    ax.set_ylabel('Cross Val Error')\n",
    "    ax.set_title(title)\n",
    "    \n",
    "def set_one_sd_model(model, params):\n",
    "    '''Defines a model based on a given set of parameters, i.e. the one stand error parameters \n",
    "    from the cross_validate function'''\n",
    "    _model = model\n",
    "    _model.set_params(**params)\n",
    "    return _model\n",
    "\n",
    "\n"
   ]
  },
  {
   "cell_type": "markdown",
   "metadata": {},
   "source": [
    "#### Compute the mean cross validation error and standard errors for the baseline model "
   ]
  },
  {
   "cell_type": "code",
   "execution_count": 255,
   "metadata": {},
   "outputs": [],
   "source": [
    "#TO DO: get this to work with my OLS class\n",
    "from sklearn.dummy import DummyRegressor\n",
    "base_grid = {'constant':[None]}\n",
    "baseline_mean_error, baseline_std_errors, *_ = cross_validate(X_train, y_train, DummyRegressor(), base_grid, 10)"
   ]
  },
  {
   "cell_type": "markdown",
   "metadata": {},
   "source": [
    "### Ridge Regression\n",
    "#### The one standard error model has 4 degrees of freedom corresponding to alpha = 44."
   ]
  },
  {
   "cell_type": "code",
   "execution_count": 428,
   "metadata": {},
   "outputs": [
    {
     "data": {
      "image/png": "[encoded data removed]",
      "text/plain": [
       "<Figure size 432x432 with 1 Axes>"
      ]
     },
     "metadata": {
      "needs_background": "light"
     },
     "output_type": "display_data"
    }
   ],
   "source": [
    "#Params have been choosen to approximate the different model degrees of freedom on p.62\n",
    "#TO DO, add code used to compute this\n",
    "ridge_params = {'alpha':[436, 157, 78, 44, 24, 12, 4, 0.00001]}\n",
    "\n",
    "ridge_mean_error, ridge_std_errors, ridge_best_idx, \\\n",
    "ridge_one_sd_idx, ridge_opt_params = cross_validate(X_train, y_train, Ridge(), ridge_params, 10)\n",
    "\n",
    "cv_plot(ridge_mean_error, ridge_std_errors, param_space=list(range(1,9)), \n",
    "        one_sd_model_idx = ridge_one_sd_idx+1,title='Ridge Regression', xlab='Degrees of Freedom')"
   ]
  },
  {
   "cell_type": "code",
   "execution_count": 257,
   "metadata": {},
   "outputs": [],
   "source": [
    "ridge_one_sd = set_one_sd_model(Ridge(),ridge_opt_params).fit(X_train, y_train)\n",
    "ridge_one_sd_coeffs = np.hstack((one_sd_ridge.intercept_,one_sd_ridge.coef_))"
   ]
  },
  {
   "cell_type": "markdown",
   "metadata": {},
   "source": [
    "### Lasso Regression\n",
    "#### Optimal shrinkage factor is approximately 0.5, corresponding to alpha = 0.1"
   ]
  },
  {
   "cell_type": "code",
   "execution_count": 357,
   "metadata": {},
   "outputs": [
    {
     "data": {
      "image/png": "[encoded data removed]",
      "text/plain": [
       "<Figure size 432x432 with 1 Axes>"
      ]
     },
     "metadata": {
      "needs_background": "light"
     },
     "output_type": "display_data"
    }
   ],
   "source": [
    "lasso_params = {'alpha':[0.680, 0.380, 0.209, 0.100, 0.044, 0.027, 0.012, 0.001]}\n",
    "\n",
    "lasso_mean_error, lasso_std_errors, lasso_best_idx, \\\n",
    "lasso_one_sd_idx, lasso_opt_params = cross_validate(X_train, y_train, Lasso(), lasso_params, 10)\n",
    "\n",
    "cv_plot(lasso_mean_error, lasso_std_errors, param_space=[0.102, 0.254, 0.384, 0.504, 0.612, 0.756, 0.883, 1],\n",
    "        one_sd_model_idx = lasso_one_sd_idx+1,title='Lasso Regression', xlab='Shrinkage Factor s')\n",
    "\n"
   ]
  },
  {
   "cell_type": "code",
   "execution_count": 356,
   "metadata": {},
   "outputs": [
    {
     "data": {
      "text/plain": [
       "Lasso(alpha=0.1, copy_X=True, fit_intercept=True, max_iter=1000,\n",
       "      normalize=False, positive=False, precompute=False, random_state=None,\n",
       "      selection='cyclic', tol=0.0001, warm_start=False)"
      ]
     },
     "execution_count": 356,
     "metadata": {},
     "output_type": "execute_result"
    }
   ],
   "source": [
    "lasso_one_sd "
   ]
  },
  {
   "cell_type": "code",
   "execution_count": 259,
   "metadata": {},
   "outputs": [],
   "source": [
    "\n",
    "lasso_one_sd = set_one_sd_model(Lasso(), lasso_opt_params).fit(X_train, y_train)\n",
    "lasso_one_sd_coeffs = np.hstack((lasso_one_sd.intercept_, lasso_one_sd.coef_))\n"
   ]
  },
  {
   "cell_type": "markdown",
   "metadata": {},
   "source": [
    "#### Plotting Lasso coefficient profiles "
   ]
  },
  {
   "cell_type": "code",
   "execution_count": 379,
   "metadata": {},
   "outputs": [],
   "source": [
    "\n",
    "def plot_coefficient_profiles(alphas, model, model_type, X, y, title, x_title, y_title):\n",
    "    coefficient_grid = np.vstack([model(alpha=alpha).fit(X,y).coef_\n",
    "                                  for alpha in reversed(alphas)])\n",
    "    if model_type.lower() == 'lasso':\n",
    "        norm = np.sum(np.abs(coefficient_grid), axis=1)\n",
    "    elif model_type.lower() == 'ridge':\n",
    "        norm = np.sum(np.square(coefficient_grid), axis=1)\n",
    "    \n",
    "    fig, ax = plt.subplots(figsize=(6,6))\n",
    "    ax.plot(norm, coefficient_grid, color='teal', ls=\"--\")\n",
    "    ax2 = ax.twinx()\n",
    "    ax2.set_ylim(ax.get_ylim())\n",
    "    plt.setp(ax2, yticks = coefficient_grid[-1],yticklabels=features)\n",
    "    ax.set_xlabel(x_title)\n",
    "    ax.set_ylabel(y_title)\n",
    "    ax.set_title(title)\n",
    "    "
   ]
  },
  {
   "cell_type": "code",
   "execution_count": 380,
   "metadata": {},
   "outputs": [
    {
     "data": {
      "image/png": "[encoded data removed]",
      "text/plain": [
       "<Figure size 432x432 with 2 Axes>"
      ]
     },
     "metadata": {
      "needs_background": "light"
     },
     "output_type": "display_data"
    }
   ],
   "source": [
    "alphas = np.linspace(0.001, 0.93, 100)\n",
    "plot_coefficient_profiles(alphas, model=Lasso, model_type='lasso', X=X_train, y = y_train, \n",
    "                          title='Lasso Coefficient Profiles', x_title='L1 Norm', y_title ='Coefficient Value')"
   ]
  },
  {
   "cell_type": "markdown",
   "metadata": {},
   "source": [
    "### Partial Least Squares Regression"
   ]
  },
  {
   "cell_type": "code",
   "execution_count": 260,
   "metadata": {},
   "outputs": [
    {
     "data": {
      "image/png": "[encoded data removed]",
      "text/plain": [
       "<Figure size 432x432 with 1 Axes>"
      ]
     },
     "metadata": {
      "needs_background": "light"
     },
     "output_type": "display_data"
    }
   ],
   "source": [
    "pls_params = {'n_components': list(range(1,9))}\n",
    "\n",
    "pls_mean_error, pls_std_errors, pls_best_idx, \\\n",
    "pls_one_sd_idx, pls_opt_params = cross_validate(X_train, y_train, PLSRegression(scale=False), pls_params, 10)\n",
    "\n",
    "cv_plot(pls_mean_error, pls_std_errors, param_space=list(range(1,9)),\n",
    "        one_sd_model_idx = pls_one_sd_idx+1,title='Partial Least Squares', xlab='Number of directions')\n",
    "\n"
   ]
  },
  {
   "cell_type": "code",
   "execution_count": 348,
   "metadata": {},
   "outputs": [],
   "source": [
    "pls_one_sd = set_one_sd_model(PLSRegression(), pls_opt_params).fit(X_train, y_train)\n",
    "pls_one_sd_coeffs = np.vstack((pls_one_sd.y_mean_,pls_one_sd.coef_))"
   ]
  },
  {
   "cell_type": "code",
   "execution_count": 398,
   "metadata": {},
   "outputs": [
    {
     "data": {
      "text/plain": [
       "7.582010719847645"
      ]
     },
     "execution_count": 398,
     "metadata": {},
     "output_type": "execute_result"
    }
   ],
   "source": [
    "pls_yhat = pls_one_sd.predict(X_test)\n",
    "mean_squared_error(y_test, pls_yhat)\n",
    "np.sqrt(mse(y_test, pls_yhat))"
   ]
  },
  {
   "cell_type": "markdown",
   "metadata": {},
   "source": [
    "### Bringing it together, summarising differences in coefficients and evaluating the test set error\n",
    "\n",
    "#### TO DO - add commentary "
   ]
  },
  {
   "cell_type": "code",
   "execution_count": 330,
   "metadata": {},
   "outputs": [],
   "source": [
    "#TO DO - tidy up table\n",
    "def model_summary(*args, names):\n",
    "    container = [np.array(np.round(i,2)) for i in args]\n",
    "    _features = ['intercept']+features\n",
    "    names = ['features']+names\n",
    "    results = pd.DataFrame((_features, *container)).T\n",
    "    results.columns = names\n",
    "    \n",
    "    return results\n",
    "    "
   ]
  },
  {
   "cell_type": "code",
   "execution_count": 332,
   "metadata": {},
   "outputs": [
    {
     "data": {
      "text/html": [
       "<div>\n",
       "<style scoped>\n",
       "    .dataframe tbody tr th:only-of-type {\n",
       "        vertical-align: middle;\n",
       "    }\n",
       "\n",
       "    .dataframe tbody tr th {\n",
       "        vertical-align: top;\n",
       "    }\n",
       "\n",
       "    .dataframe thead th {\n",
       "        text-align: right;\n",
       "    }\n",
       "</style>\n",
       "<table border=\"1\" class=\"dataframe\">\n",
       "  <thead>\n",
       "    <tr style=\"text-align: right;\">\n",
       "      <th></th>\n",
       "      <th>features</th>\n",
       "      <th>ols</th>\n",
       "      <th>ridge</th>\n",
       "      <th>lasso</th>\n",
       "      <th>pls</th>\n",
       "    </tr>\n",
       "  </thead>\n",
       "  <tbody>\n",
       "    <tr>\n",
       "      <th>0</th>\n",
       "      <td>intercept</td>\n",
       "      <td>2.45</td>\n",
       "      <td>2.45</td>\n",
       "      <td>2.45</td>\n",
       "      <td>[2.45]</td>\n",
       "    </tr>\n",
       "    <tr>\n",
       "      <th>1</th>\n",
       "      <td>lcavol</td>\n",
       "      <td>0.71</td>\n",
       "      <td>0.41</td>\n",
       "      <td>0.57</td>\n",
       "      <td>[0.44]</td>\n",
       "    </tr>\n",
       "    <tr>\n",
       "      <th>2</th>\n",
       "      <td>lweight</td>\n",
       "      <td>0.29</td>\n",
       "      <td>0.25</td>\n",
       "      <td>0.23</td>\n",
       "      <td>[0.36]</td>\n",
       "    </tr>\n",
       "    <tr>\n",
       "      <th>3</th>\n",
       "      <td>age</td>\n",
       "      <td>-0.14</td>\n",
       "      <td>-0.04</td>\n",
       "      <td>-0</td>\n",
       "      <td>[-0.02]</td>\n",
       "    </tr>\n",
       "    <tr>\n",
       "      <th>4</th>\n",
       "      <td>lbph</td>\n",
       "      <td>0.21</td>\n",
       "      <td>0.16</td>\n",
       "      <td>0.11</td>\n",
       "      <td>[0.24]</td>\n",
       "    </tr>\n",
       "    <tr>\n",
       "      <th>5</th>\n",
       "      <td>svi</td>\n",
       "      <td>0.31</td>\n",
       "      <td>0.23</td>\n",
       "      <td>0.17</td>\n",
       "      <td>[0.26]</td>\n",
       "    </tr>\n",
       "    <tr>\n",
       "      <th>6</th>\n",
       "      <td>lcp</td>\n",
       "      <td>-0.29</td>\n",
       "      <td>0.02</td>\n",
       "      <td>0</td>\n",
       "      <td>[0.09]</td>\n",
       "    </tr>\n",
       "    <tr>\n",
       "      <th>7</th>\n",
       "      <td>gleason</td>\n",
       "      <td>-0.02</td>\n",
       "      <td>0.04</td>\n",
       "      <td>0</td>\n",
       "      <td>[0.01]</td>\n",
       "    </tr>\n",
       "    <tr>\n",
       "      <th>8</th>\n",
       "      <td>pgg45</td>\n",
       "      <td>0.28</td>\n",
       "      <td>0.13</td>\n",
       "      <td>0.07</td>\n",
       "      <td>[0.08]</td>\n",
       "    </tr>\n",
       "  </tbody>\n",
       "</table>\n",
       "</div>"
      ],
      "text/plain": [
       "    features   ols ridge lasso      pls\n",
       "0  intercept  2.45  2.45  2.45   [2.45]\n",
       "1     lcavol  0.71  0.41  0.57   [0.44]\n",
       "2    lweight  0.29  0.25  0.23   [0.36]\n",
       "3        age -0.14 -0.04    -0  [-0.02]\n",
       "4       lbph  0.21  0.16  0.11   [0.24]\n",
       "5        svi  0.31  0.23  0.17   [0.26]\n",
       "6        lcp -0.29  0.02     0   [0.09]\n",
       "7    gleason -0.02  0.04     0   [0.01]\n",
       "8      pgg45  0.28  0.13  0.07   [0.08]"
      ]
     },
     "execution_count": 332,
     "metadata": {},
     "output_type": "execute_result"
    }
   ],
   "source": [
    "model_summary(ols_coefficients, ridge_one_sd_coeffs, lasso_one_sd_coeffs, \n",
    "              pls_one_sd_coeffs, names=['ols','ridge','lasso','pls'])"
   ]
  },
  {
   "cell_type": "code",
   "execution_count": 426,
   "metadata": {},
   "outputs": [],
   "source": [
    "def evaluate_test_error(*args, model_names):\n",
    "    error = []\n",
    "    std_error = []\n",
    "    names = ['error']+list(model_names)\n",
    "    error_labs = ['test error', 'std_error']\n",
    "    for model in args:\n",
    "        y_pred = model.predict(X_test)\n",
    "        error.append(mean_squared_error(y_test, y_pred))\n",
    "        std_error.append(mean_squared_error(y_test, y_pred)/np.sqrt(len(y_test)))\n",
    "    results = pd.DataFrame((np.round(error,2), np.round(std_error,2)))\n",
    "    results = pd.concat([pd.Series(error_labs), results], axis=1)\n",
    "    results.columns=names\n",
    "    \n",
    "    return results"
   ]
  },
  {
   "cell_type": "code",
   "execution_count": 427,
   "metadata": {},
   "outputs": [
    {
     "data": {
      "text/html": [
       "<div>\n",
       "<style scoped>\n",
       "    .dataframe tbody tr th:only-of-type {\n",
       "        vertical-align: middle;\n",
       "    }\n",
       "\n",
       "    .dataframe tbody tr th {\n",
       "        vertical-align: top;\n",
       "    }\n",
       "\n",
       "    .dataframe thead th {\n",
       "        text-align: right;\n",
       "    }\n",
       "</style>\n",
       "<table border=\"1\" class=\"dataframe\">\n",
       "  <thead>\n",
       "    <tr style=\"text-align: right;\">\n",
       "      <th></th>\n",
       "      <th>error</th>\n",
       "      <th>ols</th>\n",
       "      <th>ridge</th>\n",
       "      <th>lasso</th>\n",
       "      <th>pls</th>\n",
       "    </tr>\n",
       "  </thead>\n",
       "  <tbody>\n",
       "    <tr>\n",
       "      <th>0</th>\n",
       "      <td>test error</td>\n",
       "      <td>0.55</td>\n",
       "      <td>0.51</td>\n",
       "      <td>0.46</td>\n",
       "      <td>0.61</td>\n",
       "    </tr>\n",
       "    <tr>\n",
       "      <th>1</th>\n",
       "      <td>std_error</td>\n",
       "      <td>0.10</td>\n",
       "      <td>0.09</td>\n",
       "      <td>0.08</td>\n",
       "      <td>0.11</td>\n",
       "    </tr>\n",
       "  </tbody>\n",
       "</table>\n",
       "</div>"
      ],
      "text/plain": [
       "        error   ols  ridge  lasso   pls\n",
       "0  test error  0.55   0.51   0.46  0.61\n",
       "1   std_error  0.10   0.09   0.08  0.11"
      ]
     },
     "execution_count": 427,
     "metadata": {},
     "output_type": "execute_result"
    }
   ],
   "source": [
    "evaluate_test_error(ols, ridge_one_sd, lasso_one_sd, pls_one_sd, model_names=['ols', 'ridge', 'lasso', 'pls'])"
   ]
  }
 ],
 "metadata": {
  "kernelspec": {
   "display_name": "Python 3",
   "language": "python",
   "name": "python3"
  },
  "language_info": {
   "codemirror_mode": {
    "name": "ipython",
    "version": 3
   },
   "file_extension": ".py",
   "mimetype": "text/x-python",
   "name": "python",
   "nbconvert_exporter": "python",
   "pygments_lexer": "ipython3",
   "version": "3.7.6"
  }
 },
 "nbformat": 4,
 "nbformat_minor": 4
}
