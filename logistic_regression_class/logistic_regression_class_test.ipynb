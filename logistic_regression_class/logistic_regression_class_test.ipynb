{
 "cells": [
  {
   "cell_type": "markdown",
   "metadata": {},
   "source": [
    "## Logistic Regression Class WIP\n",
    "#### Testing out my logistic regression class"
   ]
  },
  {
   "cell_type": "code",
   "execution_count": 6,
   "metadata": {},
   "outputs": [],
   "source": [
    "import statsmodels.api as sm\n",
    "import sys\n",
    "sys.path.insert(0, '..')\n",
    "import logistic_regression as lr"
   ]
  },
  {
   "cell_type": "code",
   "execution_count": 12,
   "metadata": {},
   "outputs": [],
   "source": [
    "spector_data = sm.datasets.spector.load_pandas()\n",
    "y = spector_data.endog\n",
    "X = spector_data.exog"
   ]
  },
  {
   "cell_type": "code",
   "execution_count": 13,
   "metadata": {},
   "outputs": [],
   "source": [
    "logit_model = lr.LogisticRegression()\n",
    "logit_model.fit(X, y, include_intercept=True)\n"
   ]
  },
  {
   "cell_type": "code",
   "execution_count": 14,
   "metadata": {},
   "outputs": [
    {
     "name": "stdout",
     "output_type": "stream",
     "text": [
      "variable            coef          se      zstat    pvalues   95%_l    95%_h\n",
      "----------------------------------------------------------------------------\n",
      " intercept        -13.01         4.93     -2.64      0.01   -22.67    -3.35\n",
      "       GPA          2.82         1.26      2.24      0.03     0.35     5.30\n",
      "      TUCE          0.10         0.14      0.67      0.50    -0.18     0.37\n",
      "       PSI          2.38         1.06      2.23      0.03     0.29     4.46\n",
      "----------------------------------------------------------------------------\n",
      "No of observations: 32\n",
      "Model degrees of freedom: 28\n",
      "Log-Likelihood: -12.89\n",
      "AIC 33.78\n"
     ]
    }
   ],
   "source": [
    "logit_model.summary()"
   ]
  },
  {
   "cell_type": "code",
   "execution_count": 15,
   "metadata": {},
   "outputs": [
    {
     "name": "stdout",
     "output_type": "stream",
     "text": [
      "variable            coef          se      zstat    pvalues   95%_l    95%_h\n",
      "----------------------------------------------------------------------------\n",
      " intercept          0.00       138.00     -2.64      0.01     0.00     0.04\n",
      "       GPA         16.84         3.53      2.24      0.03     1.42   199.93\n",
      "      TUCE          1.10         1.15      0.67      0.50     0.83     1.45\n",
      "       PSI         10.77         2.90      2.23      0.03     1.34    86.66\n",
      "----------------------------------------------------------------------------\n",
      "No of observations: 32\n",
      "Model degrees of freedom: 28\n",
      "Log-Likelihood: -12.89\n",
      "AIC 33.78\n"
     ]
    }
   ],
   "source": [
    "logit_model.summary('odds_ratio')"
   ]
  },
  {
   "cell_type": "code",
   "execution_count": 16,
   "metadata": {},
   "outputs": [
    {
     "data": {
      "image/png": "[encoded data removed]",
      "text/plain": [
       "<Figure size 432x288 with 1 Axes>"
      ]
     },
     "metadata": {
      "needs_background": "light"
     },
     "output_type": "display_data"
    }
   ],
   "source": [
    "logit_model.plot_coefs('odds_ratio')"
   ]
  },
  {
   "cell_type": "code",
   "execution_count": 18,
   "metadata": {},
   "outputs": [
    {
     "data": {
      "image/png": "[encoded data removed]",
      "text/plain": [
       "<Figure size 432x288 with 1 Axes>"
      ]
     },
     "metadata": {
      "needs_background": "light"
     },
     "output_type": "display_data"
    }
   ],
   "source": [
    "logit_model.plot_binned_residuals(x=X['TUCE'], x_lab='TUCE')"
   ]
  }
 ],
 "metadata": {
  "kernelspec": {
   "display_name": "Python 3",
   "language": "python",
   "name": "python3"
  },
  "language_info": {
   "codemirror_mode": {
    "name": "ipython",
    "version": 3
   },
   "file_extension": ".py",
   "mimetype": "text/x-python",
   "name": "python",
   "nbconvert_exporter": "python",
   "pygments_lexer": "ipython3",
   "version": "3.7.6"
  }
 },
 "nbformat": 4,
 "nbformat_minor": 4
}
