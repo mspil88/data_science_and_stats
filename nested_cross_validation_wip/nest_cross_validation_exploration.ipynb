{
 "cells": [
  {
   "cell_type": "markdown",
   "metadata": {},
   "source": [
    "## On nested cross validation\n",
    "\n",
    "#### This notebook builds a function to help handle nested cross validation using prostate cancer data from The Elements of Statistical Learning.\n",
    "\n",
    "#### Notes on Nested CV. \n",
    "#### Personally I have always found this confusing so this notebook is going to be used to help flesh out the idea behind it. From my research I can gather:\n",
    "##### (1) Cross validation can be used to evaluate models and tune parameters, e.g. https://github.com/mspil88/data_science_and_stats/blob/main/ESL_One_Standard_Error_Models2.ipynb\n",
    "##### (2) Nested CV purports to allow us to do both with two loops, an outer loop to evaluate the algorithm and an inner to handle the hyperparameter optimisation\n",
    "##### (3) This post provides an excellent description https://stats.stackexchange.com/a/65156. Specifically \"Treat the inner cross validation as part of the model fitting procedure. That means that the fitting including the fitting of the hyper-parameters (this is where the inner cross validation hides) is just like any other model esitmation routine.The outer cross validation estimates the performance of this model fitting approach. For that you use the usual assumptions\"\n",
    "\n"
   ]
  },
  {
   "cell_type": "code",
   "execution_count": 1,
   "metadata": {},
   "outputs": [],
   "source": [
    "import pandas as pd\n",
    "import numpy as np\n",
    "from matplotlib import pyplot as plt\n",
    "from sklearn.model_selection import KFold\n",
    "from sklearn.model_selection import cross_val_score, GridSearchCV, cross_validate\n",
    "from sklearn.linear_model import LinearRegression, Ridge, Lasso\n",
    "from sklearn.metrics import mean_squared_error\n",
    "from sklearn.preprocessing import StandardScaler"
   ]
  },
  {
   "cell_type": "code",
   "execution_count": 3,
   "metadata": {},
   "outputs": [],
   "source": [
    "def data_proc():\n",
    "    '''Returns training and test sets as well as a list containing feature names'''\n",
    "    \n",
    "    cols = pd.read_csv(r\"..\\nested_cross_validation_wip\\prostate.csv\", nrows=0)\n",
    "    data = pd.read_csv(r\"..\\nested_cross_validation_wip\\prostate.csv\", usecols = [i for i in cols if i != 'id'])\n",
    "    \n",
    "    target = 'lpsa'\n",
    "    features = ['lcavol', 'lweight', 'age', 'lbph', 'svi', 'lcp', 'gleason', 'pgg45']\n",
    "    \n",
    "    X, y = data[features].values, data[target].values\n",
    "    train_idx = data.train==\"T\"\n",
    "    X_train, y_train = X[train_idx], y[train_idx]\n",
    "    X_test, y_test = X[~train_idx], y[~train_idx]\n",
    "    \n",
    "    \n",
    "    \n",
    "    return X_train, y_train, X_test, y_test, features\n",
    "\n",
    "def standardiser(X_train, X_test):\n",
    "    '''Returns a standardised matrix for given inputs X_train, X_test \n",
    "    ensuring the mean and sd from the training set are used'''\n",
    "    mu_train = np.mean(X_train, axis=0)\n",
    "    sd_train = np.std(X_train, axis=0)\n",
    "    return (X_train-mu_train)/sd_train, (X_test-mu_train)/sd_train\n",
    "\n",
    "def std_scaler(X_train, X_test):\n",
    "    '''Same as above but using Sklearn to sort this'''\n",
    "    std_scale = StandardScaler().fit(X_train)\n",
    "    return std_scale.transform(X_train), std_scale.transform(X_test)\n"
   ]
  },
  {
   "cell_type": "code",
   "execution_count": 4,
   "metadata": {},
   "outputs": [],
   "source": [
    "X_train, y_train, X_test, y_test, features = data_proc()"
   ]
  },
  {
   "cell_type": "code",
   "execution_count": 5,
   "metadata": {},
   "outputs": [],
   "source": [
    "X_train, X_test = standardiser(X_train, X_test)"
   ]
  },
  {
   "cell_type": "markdown",
   "metadata": {},
   "source": [
    "### Trial run on a ridge model"
   ]
  },
  {
   "cell_type": "code",
   "execution_count": 6,
   "metadata": {},
   "outputs": [],
   "source": [
    "params = {'alpha':[436, 157, 78, 44, 24, 12, 4, 0.00001]}\n"
   ]
  },
  {
   "cell_type": "code",
   "execution_count": 7,
   "metadata": {},
   "outputs": [],
   "source": [
    "def nestedCV(X, y, model, params, outer_splits=5, inner_splits=5, gs_score = 'neg_mean_squared_error', random_seed=0):\n",
    "    '''Perform nested cross validation returning the best hyperparameters from the inner loop and error from the outer loop\n",
    "        NB: This is a WIP and needs a lot of checking\n",
    "    '''\n",
    "    \n",
    "    outer_cv = KFold(n_splits=outer_splits, random_state=random_seed, shuffle=True)\n",
    "    \n",
    "    train_error = []\n",
    "    val_error = []\n",
    "    train_val_diff = []\n",
    "    \n",
    "    train_sd = []\n",
    "    val_sd = []\n",
    "    \n",
    "    inner_cv = KFold(n_splits=inner_splits, random_state=random_seed, shuffle=True)\n",
    "    \n",
    "    best_params = []\n",
    "    \n",
    "    for train_outer_idx, val_outer_idx in outer_cv.split(X,y):\n",
    "        X_train, X_val = X[train_outer_idx,:], X[val_outer_idx,:]\n",
    "        y_train, y_val = y[train_outer_idx], y[val_outer_idx]\n",
    "        \n",
    "        clf = GridSearchCV(estimator = model, param_grid = params, scoring=gs_score,\n",
    "                           return_train_score = True).fit(X_train, y_train)\n",
    "        \n",
    "        mean_train_score = clf.cv_results_['mean_train_score']\n",
    "        sd_train_score = clf.cv_results_['std_train_score']\n",
    "        mean_val_score = clf.cv_results_['mean_test_score']\n",
    "        sd_val_score = clf.cv_results_['std_test_score']\n",
    "        best_params = clf.best_params_\n",
    "        \n",
    "        train_error.append(-1*mean_train_score[np.where(mean_val_score == clf.best_score_)[0][0]])\n",
    "        val_error.append(-1*clf.best_score_)\n",
    "        train_val_diff.append(mean_train_score[np.where(mean_val_score == clf.best_score_)[0][0]] - clf.best_score_)\n",
    "        \n",
    "    \n",
    "    return {'best_param': best_params,\n",
    "           'train_error': train_error,\n",
    "           'val_error': val_error,\n",
    "           'train_val_diff': train_val_diff,\n",
    "           }"
   ]
  },
  {
   "cell_type": "code",
   "execution_count": 8,
   "metadata": {},
   "outputs": [],
   "source": [
    "output = nestedCV(X_train, y_train, Ridge(), params, inner_splits=10, outer_splits=10)"
   ]
  },
  {
   "cell_type": "code",
   "execution_count": 9,
   "metadata": {},
   "outputs": [
    {
     "data": {
      "text/plain": [
       "[<matplotlib.lines.Line2D at 0x1a13e72b248>]"
      ]
     },
     "execution_count": 9,
     "metadata": {},
     "output_type": "execute_result"
    },
    {
     "data": {
      "image/png": "[encoded data removed]",
      "text/plain": [
       "<Figure size 432x288 with 1 Axes>"
      ]
     },
     "metadata": {
      "needs_background": "light"
     },
     "output_type": "display_data"
    }
   ],
   "source": [
    "plt.plot([i for i in range(10)] ,output['train_error'])\n",
    "plt.plot([i for i in range(10)] ,output['val_error'])\n"
   ]
  },
  {
   "cell_type": "code",
   "execution_count": 10,
   "metadata": {},
   "outputs": [
    {
     "data": {
      "text/plain": [
       "{'alpha': 1e-05}"
      ]
     },
     "execution_count": 10,
     "metadata": {},
     "output_type": "execute_result"
    }
   ],
   "source": [
    "output['best_param']"
   ]
  },
  {
   "cell_type": "code",
   "execution_count": null,
   "metadata": {},
   "outputs": [],
   "source": []
  },
  {
   "cell_type": "code",
   "execution_count": null,
   "metadata": {},
   "outputs": [],
   "source": []
  },
  {
   "cell_type": "code",
   "execution_count": null,
   "metadata": {},
   "outputs": [],
   "source": []
  }
 ],
 "metadata": {
  "kernelspec": {
   "display_name": "Python 3",
   "language": "python",
   "name": "python3"
  },
  "language_info": {
   "codemirror_mode": {
    "name": "ipython",
    "version": 3
   },
   "file_extension": ".py",
   "mimetype": "text/x-python",
   "name": "python",
   "nbconvert_exporter": "python",
   "pygments_lexer": "ipython3",
   "version": "3.7.6"
  }
 },
 "nbformat": 4,
 "nbformat_minor": 4
}
