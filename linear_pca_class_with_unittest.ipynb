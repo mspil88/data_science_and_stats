{
 "cells": [
  {
   "cell_type": "markdown",
   "metadata": {},
   "source": [
    "## A custom linear PCA class\n",
    "\n",
    "#### In this notebook I create my own linear PCA class using numpy. The main innovation of this class over Sklearn is that it produces a series of useful scree plots.  "
   ]
  },
  {
   "cell_type": "code",
   "execution_count": 1,
   "metadata": {},
   "outputs": [],
   "source": [
    "import numpy as np\n",
    "from matplotlib import pyplot as plt\n",
    "import unittest\n",
    "\n",
    "\n",
    "class LinearPCA:    \n",
    "    '''A class used to implement linear principal components analysis\n",
    "    ...\n",
    "    \n",
    "    Properties\n",
    "    ----------\n",
    "    eigenvalues : np.ndarray\n",
    "        The eigenvalues recovered from the covariance matrix of the input matrix X\n",
    "    \n",
    "    eigenvectors :  np.ndarray\n",
    "        The eigenvectors recovereed from the covariance matrix of the input matrix X\n",
    "    \n",
    "    components : int\n",
    "        The number of principal components specified by the user, this is optional\n",
    "    \n",
    "    rescaled : np.ndarray\n",
    "        The eigenvectors projected onto the original input matrix X\n",
    "    \n",
    "    total_variance_explained :  np.ndarray\n",
    "        A sorted array containing the proportion of variance explained by each principal component\n",
    "    \n",
    "    cumulative_variance :  np.ndarray\n",
    "        A sorted array containing the cumulative proportion of variance explained by each principal component\n",
    "    \n",
    "    \n",
    "    Methods\n",
    "    -------\n",
    "    \n",
    "    fit(X, transform=None)\n",
    "        X : np.ndarray\n",
    "        transform : str\n",
    "        \n",
    "        'Fits' the PCA given a specified number of components X and allows the user to specify mean centring or zero-mean, \n",
    "        unit-variance standardisation\n",
    "    \n",
    "    scree_plot(y='total_variance', variance_threshold = None)\n",
    "        y : str\n",
    "        variance_threshold : float\n",
    "        \n",
    "        returns a scree plot in order to visualise the principle components based on total variance, cumulative variance and\n",
    "        the raw eigenvalues\n",
    "    \n",
    "    '''\n",
    "    def __init__(self, components=None):\n",
    "        '''\n",
    "        Parameters\n",
    "        ----------\n",
    "        components : int\n",
    "            Optional user defined components, must be an integer\n",
    "        \n",
    "        Raises\n",
    "        ------\n",
    "        ValueError\n",
    "            If the component parameter is either not an int or is not None\n",
    "        \n",
    "        '''\n",
    "        \n",
    "        if isinstance(components, int) or components is None:\n",
    "            self._components = components\n",
    "        else:\n",
    "            raise ValueError(\"Components must be an integer\")\n",
    "\n",
    "    @property\n",
    "    def eigenvectors(self):\n",
    "        '''Read-only, returns the eigenvectos'''\n",
    "        return self._eigenvectors\n",
    "    \n",
    "    @property\n",
    "    def eigenvalues(self):\n",
    "        '''Read-only, returns the eigenvalues'''\n",
    "        return self._eigenvalues\n",
    "    \n",
    "    @property\n",
    "    def rescaled(self):\n",
    "        '''Read-only, returns the rescaled data'''\n",
    "        return self._rescaled\n",
    "    \n",
    "    @property\n",
    "    def total_variance_explained(self):\n",
    "        '''Read-only, returns the total variance explained by each component'''\n",
    "        return self._total_variance_explained\n",
    "    \n",
    "    @property\n",
    "    def components(self):\n",
    "        '''Read-only, returns the number of components specified by the user'''\n",
    "        return self._components\n",
    "\n",
    "    @property\n",
    "    def cumulative_variance(self):\n",
    "        '''Read-only, returns the cumulative varianced explained by each component '''\n",
    "        return self._cumulative_variance\n",
    "    \n",
    "    def fit(self, x, transform=None,**kwargs):\n",
    "        '''Extracts the principal components from an input matrix X \n",
    "        \n",
    "        Parameters\n",
    "        ----------\n",
    "        X : np.ndarray\n",
    "        transform : str\n",
    "            Gives the user the option to mean centre X (transform = mean) or to standardise X with zero mean and unit standard deviation\n",
    "            (transform = standardise). The default parameter is to apply no transformation at all\n",
    "        \n",
    "        Raises\n",
    "        ------\n",
    "        TypeError\n",
    "            If the input matrix X is not an np.ndarray\n",
    "        \n",
    "        '''\n",
    "        \n",
    "        if isinstance(x, np.ndarray):\n",
    "            pass\n",
    "        else:\n",
    "            #TO DO: This might be too restrictive, consider broadening\n",
    "            raise TypeError(\"Input matrix X must be a numpy array\")\n",
    "        \n",
    "        if transform == 'mean':\n",
    "            x -= x.mean(axis=0)\n",
    "        elif transform == 'standardise':\n",
    "            x -= x.mean(axis=0)\n",
    "            x /= x.std(axis=0)\n",
    "        else:\n",
    "            x = x \n",
    "        variance_covariance_matrix = np.cov(x, rowvar=False)\n",
    "        eigenvalues, eigenvectors = np.linalg.eigh(variance_covariance_matrix)\n",
    "            \n",
    "        if self._components:\n",
    "            order_idx = np.argsort(eigenvalues)[::-1][0:self._components]\n",
    "        else:\n",
    "            order_idx = np.argsort(eigenvalues)[::-1]\n",
    "        self._eigenvectors = eigenvectors[:,order_idx]\n",
    "        self._eigenvalues = eigenvalues[order_idx]\n",
    "        self._rescaled = np.dot(x, self.eigenvectors)\n",
    "        self._total_variance_explained = self._eigenvalues/sum(self._eigenvalues)\n",
    "        self._cumulative_variance = np.cumsum(self._total_variance_explained)\n",
    "    \n",
    "    def chart_params(self):\n",
    "        ''' Stores chart paramaters in a dictionary in order to reduce code redundency in the plots'''\n",
    "        \n",
    "        chart_params = {'total_variance': {'title': 'Total Variance Explained', \n",
    "                                           'y_lab':'Variance Explained',\n",
    "                                           'x_lab': 'Number of components', \n",
    "                                           'value': self._total_variance_explained,\n",
    "                                           'x_min':1,\n",
    "                                           'x_max': len(self._total_variance_explained)+1},\n",
    "                         'eigenvalues': {'title': 'Eigenvalues', \n",
    "                                         'y_lab': 'Eigenvalues',\n",
    "                                         'x_lab': 'Number of components',\n",
    "                                         'value': self._eigenvalues,\n",
    "                                         'x_min': 1,\n",
    "                                         'x_max': len(self._eigenvalues)+1},\n",
    "                         'cumulative': {'title': 'Cumulative Variance Explained', \n",
    "                                         'y_lab': 'Cumulative variance',\n",
    "                                         'x_lab': 'Number of components',\n",
    "                                         'value': np.hstack((0,self._cumulative_variance)),\n",
    "                                         'x_min': 0,\n",
    "                                         'x_max': len(self._cumulative_variance)+1},\n",
    "                         }\n",
    "        return chart_params\n",
    "    \n",
    "    def scree_plot(self, y = 'total_variance', variance_threshold=None):\n",
    "        ''' returns a scree plot in order to visualise the principle components\n",
    "        \n",
    "        Parameters\n",
    "        ----------\n",
    "        y : str\n",
    "            (1) y = 'total_variance' to plot the total variance explained by each component\n",
    "            (2) y = 'eigenvalues' to plot the values of the eigenvalues for each component\n",
    "            (3) y = 'cumulative' to plot the cumulative variance explained by each component\n",
    "            \n",
    "        variance_threshold : float\n",
    "            This only works for the cumulative plot and allows the user to visualise see the number \n",
    "            components closest to a specified variance tolerance.\n",
    "        \n",
    "        Raises\n",
    "        ------\n",
    "        KeyError\n",
    "            If the user does not specify total_variance, eigenvalues or cumulative for y\n",
    "        \n",
    "        ValueError\n",
    "            If a variance_threshold not None for a total_variance or eigenvalues plot\n",
    "            \n",
    "            '''\n",
    "        y = y.strip().lower()\n",
    "        \n",
    "        if variance_threshold:\n",
    "            if variance_threshold < 0.0 or variance_threshold > 1.0:\n",
    "                raise ValueError(\"The threshold must be between 0 and 1\")\n",
    "            \n",
    "        if y not in self.chart_params():\n",
    "            raise KeyError(\"Must specify either total_variance, eigenvalues or cumulative\")\n",
    "        elif (y == 'eigenvalues' or y=='total_variance') and variance_threshold is not None:\n",
    "            raise ValueError(\"Cannot specify a variance threshold when plotting the eigenvalues\")\n",
    "        else:\n",
    "            title, y_lab, x_lab, values, x_min, x_max = self.chart_params()[y].values()\n",
    "            fig = plt.figure()\n",
    "            \n",
    "            plt.plot(range(x_min, x_max), values, color='darkmagenta')\n",
    "            fig.suptitle(title, fontsize=12)\n",
    "            plt.xlabel(x_lab)\n",
    "            plt.xticks(np.arange(x_min, x_max, 1))\n",
    "            plt.ylim(ymin=0)\n",
    "            plt.ylabel(y_lab)\n",
    "            if y == 'cumulative' and variance_threshold:\n",
    "                min_component = np.abs(np.subtract.outer(values,variance_threshold)).argmin(0)\n",
    "                plt.axhline(values[min_component],linestyle='dashed', color='black', linewidth=1)\n",
    "                plt.axvline(min_component, linestyle='dashed', color='black', linewidth=1)\n"
   ]
  },
  {
   "cell_type": "markdown",
   "metadata": {},
   "source": [
    "### A short example"
   ]
  },
  {
   "cell_type": "code",
   "execution_count": 2,
   "metadata": {},
   "outputs": [],
   "source": [
    "from sklearn import datasets\n",
    "\n",
    "boston = datasets.load_boston()\n",
    "features = boston.data\n",
    "\n",
    "p = LinearPCA()\n",
    "p.fit(features, transform='mean')"
   ]
  },
  {
   "cell_type": "code",
   "execution_count": 3,
   "metadata": {},
   "outputs": [
    {
     "data": {
      "text/plain": [
       "array([8.05823175e-01, 1.63051968e-01, 2.13486092e-02, 6.95699061e-03,\n",
       "       1.29995193e-03, 7.27220158e-04, 4.19044539e-04, 2.48538539e-04,\n",
       "       8.53912023e-05, 3.08071548e-05, 6.65623182e-06, 1.56778461e-06,\n",
       "       7.96814208e-08])"
      ]
     },
     "execution_count": 3,
     "metadata": {},
     "output_type": "execute_result"
    }
   ],
   "source": [
    "p.total_variance_explained"
   ]
  },
  {
   "cell_type": "code",
   "execution_count": 4,
   "metadata": {},
   "outputs": [
    {
     "data": {
      "text/plain": [
       "array([3.08899113e+04, 6.25033006e+03, 8.18363958e+02, 2.66684838e+02,\n",
       "       4.98315275e+01, 2.78767934e+01, 1.60633859e+01, 9.52731770e+00,\n",
       "       3.27333185e+00, 1.18094181e+00, 2.55155742e-01, 6.00984544e-02,\n",
       "       3.05445673e-03])"
      ]
     },
     "execution_count": 4,
     "metadata": {},
     "output_type": "execute_result"
    }
   ],
   "source": [
    "p.eigenvalues"
   ]
  },
  {
   "cell_type": "code",
   "execution_count": 5,
   "metadata": {},
   "outputs": [
    {
     "data": {
      "text/plain": [
       "array([0.80582318, 0.96887514, 0.99022375, 0.99718074, 0.99848069,\n",
       "       0.99920791, 0.99962696, 0.9998755 , 0.99996089, 0.9999917 ,\n",
       "       0.99999835, 0.99999992, 1.        ])"
      ]
     },
     "execution_count": 5,
     "metadata": {},
     "output_type": "execute_result"
    }
   ],
   "source": [
    "p.cumulative_variance"
   ]
  },
  {
   "cell_type": "code",
   "execution_count": 6,
   "metadata": {},
   "outputs": [
    {
     "data": {
      "image/png": "[encoded data removed]",
      "text/plain": [
       "<Figure size 432x288 with 1 Axes>"
      ]
     },
     "metadata": {
      "needs_background": "light"
     },
     "output_type": "display_data"
    }
   ],
   "source": [
    "p.scree_plot(y = 'total_variance')\n"
   ]
  },
  {
   "cell_type": "code",
   "execution_count": 7,
   "metadata": {},
   "outputs": [
    {
     "data": {
      "image/png": "[encoded data removed]",
      "text/plain": [
       "<Figure size 432x288 with 1 Axes>"
      ]
     },
     "metadata": {
      "needs_background": "light"
     },
     "output_type": "display_data"
    }
   ],
   "source": [
    "p.scree_plot(y = 'Eigenvalues')"
   ]
  },
  {
   "cell_type": "code",
   "execution_count": 8,
   "metadata": {},
   "outputs": [
    {
     "data": {
      "image/png": "[encoded data removed]",
      "text/plain": [
       "<Figure size 432x288 with 1 Axes>"
      ]
     },
     "metadata": {
      "needs_background": "light"
     },
     "output_type": "display_data"
    }
   ],
   "source": [
    "p.scree_plot(y = 'cumulative', variance_threshold=0.91)"
   ]
  },
  {
   "cell_type": "markdown",
   "metadata": {},
   "source": [
    "### Comparison with Sklearn"
   ]
  },
  {
   "cell_type": "code",
   "execution_count": 9,
   "metadata": {},
   "outputs": [],
   "source": [
    "from sklearn.decomposition import PCA\n",
    "import pandas as pd\n",
    "\n",
    "features_centred = features - features.mean(axis=0)\n",
    "pca = PCA()\n",
    "pca_features = pca.fit_transform(features_centred)\n"
   ]
  },
  {
   "cell_type": "code",
   "execution_count": 10,
   "metadata": {},
   "outputs": [
    {
     "data": {
      "text/html": [
       "<div>\n",
       "<style scoped>\n",
       "    .dataframe tbody tr th:only-of-type {\n",
       "        vertical-align: middle;\n",
       "    }\n",
       "\n",
       "    .dataframe tbody tr th {\n",
       "        vertical-align: top;\n",
       "    }\n",
       "\n",
       "    .dataframe thead th {\n",
       "        text-align: right;\n",
       "    }\n",
       "</style>\n",
       "<table border=\"1\" class=\"dataframe\">\n",
       "  <thead>\n",
       "    <tr style=\"text-align: right;\">\n",
       "      <th></th>\n",
       "      <th>sklearn</th>\n",
       "      <th>My Class</th>\n",
       "    </tr>\n",
       "  </thead>\n",
       "  <tbody>\n",
       "    <tr>\n",
       "      <th>0</th>\n",
       "      <td>0.805823</td>\n",
       "      <td>0.805823</td>\n",
       "    </tr>\n",
       "    <tr>\n",
       "      <th>1</th>\n",
       "      <td>0.163052</td>\n",
       "      <td>0.163052</td>\n",
       "    </tr>\n",
       "    <tr>\n",
       "      <th>2</th>\n",
       "      <td>0.021349</td>\n",
       "      <td>0.021349</td>\n",
       "    </tr>\n",
       "    <tr>\n",
       "      <th>3</th>\n",
       "      <td>0.006957</td>\n",
       "      <td>0.006957</td>\n",
       "    </tr>\n",
       "    <tr>\n",
       "      <th>4</th>\n",
       "      <td>0.001300</td>\n",
       "      <td>0.001300</td>\n",
       "    </tr>\n",
       "    <tr>\n",
       "      <th>5</th>\n",
       "      <td>0.000727</td>\n",
       "      <td>0.000727</td>\n",
       "    </tr>\n",
       "    <tr>\n",
       "      <th>6</th>\n",
       "      <td>0.000419</td>\n",
       "      <td>0.000419</td>\n",
       "    </tr>\n",
       "    <tr>\n",
       "      <th>7</th>\n",
       "      <td>0.000249</td>\n",
       "      <td>0.000249</td>\n",
       "    </tr>\n",
       "    <tr>\n",
       "      <th>8</th>\n",
       "      <td>0.000085</td>\n",
       "      <td>0.000085</td>\n",
       "    </tr>\n",
       "    <tr>\n",
       "      <th>9</th>\n",
       "      <td>0.000031</td>\n",
       "      <td>0.000031</td>\n",
       "    </tr>\n",
       "    <tr>\n",
       "      <th>10</th>\n",
       "      <td>0.000007</td>\n",
       "      <td>0.000007</td>\n",
       "    </tr>\n",
       "    <tr>\n",
       "      <th>11</th>\n",
       "      <td>0.000002</td>\n",
       "      <td>0.000002</td>\n",
       "    </tr>\n",
       "    <tr>\n",
       "      <th>12</th>\n",
       "      <td>0.000000</td>\n",
       "      <td>0.000000</td>\n",
       "    </tr>\n",
       "  </tbody>\n",
       "</table>\n",
       "</div>"
      ],
      "text/plain": [
       "     sklearn  My Class\n",
       "0   0.805823  0.805823\n",
       "1   0.163052  0.163052\n",
       "2   0.021349  0.021349\n",
       "3   0.006957  0.006957\n",
       "4   0.001300  0.001300\n",
       "5   0.000727  0.000727\n",
       "6   0.000419  0.000419\n",
       "7   0.000249  0.000249\n",
       "8   0.000085  0.000085\n",
       "9   0.000031  0.000031\n",
       "10  0.000007  0.000007\n",
       "11  0.000002  0.000002\n",
       "12  0.000000  0.000000"
      ]
     },
     "execution_count": 10,
     "metadata": {},
     "output_type": "execute_result"
    }
   ],
   "source": [
    "pd.DataFrame({'sklearn': np.round(pca.explained_variance_ratio_,6), 'My Class':np.round(p.total_variance_explained,6)})"
   ]
  },
  {
   "cell_type": "markdown",
   "metadata": {},
   "source": [
    "### Some Unit testing"
   ]
  },
  {
   "cell_type": "code",
   "execution_count": 11,
   "metadata": {},
   "outputs": [],
   "source": [
    "\n",
    "def run_tests(test_class):\n",
    "    suite = unittest.TestLoader().loadTestsFromTestCase(test_class)\n",
    "    runner = unittest.TextTestRunner(verbosity=2)\n",
    "    runner.run(suite)\n",
    "    \n",
    "class TestLinearPCA(unittest.TestCase):\n",
    "    def setUp(self):\n",
    "        print(\"Running setup\")\n",
    "        self.features = datasets.load_boston().data\n",
    "        self.total_variance_explained = np.array([8.05823175e-01, 1.63051968e-01, 2.13486092e-02, 6.95699061e-03,\n",
    "                                                   1.29995193e-03, 7.27220158e-04, 4.19044539e-04, 2.48538539e-04,\n",
    "                                                   8.53912023e-05, 3.08071548e-05, 6.65623182e-06, 1.56778461e-06,\n",
    "                                                   7.96814208e-08])\n",
    "        self.eigenvalues = np.array([3.08899113e+04, 6.25033006e+03, 8.18363958e+02, 2.66684838e+02,\n",
    "                                                   4.98315275e+01, 2.78767934e+01, 1.60633859e+01, 9.52731770e+00,\n",
    "                                                   3.27333185e+00, 1.18094181e+00, 2.55155742e-01, 6.00984544e-02,\n",
    "                                                   3.05445673e-03])                               \n",
    "        self.cumulative_variance = np.array([0.80582318, 0.96887514, 0.99022375, 0.99718074, 0.99848069,\n",
    "                                             0.99920791, 0.99962696, 0.9998755 , 0.99996089, 0.9999917 ,\n",
    "                                             0.99999835, 0.99999992, 1.        ])\n",
    "    \n",
    "    \n",
    "    def tearDown(self):\n",
    "        print(\"Running teardown\")\n",
    "        pass\n",
    "\n",
    "    # delegate almost equal checking to this function in order to minimise redundancy\n",
    "    def almost_equal(self, arr1, arr2):\n",
    "        try:\n",
    "            np.testing.assert_almost_equal(arr1, arr2, decimal=3)\n",
    "            result = True\n",
    "        except AssertionError as error:\n",
    "            result = False\n",
    "            print(error)\n",
    "        self.assertTrue(result)\n",
    "\n",
    "    def test_total_variance_explained(self):\n",
    "        p = LinearPCA()\n",
    "        p.fit(self.features, transform='mean')\n",
    "        \n",
    "        self.almost_equal(self.total_variance_explained, p.total_variance_explained)\n",
    "        \n",
    "        \n",
    "    def test_eigenvalues(self):\n",
    "        p = LinearPCA()\n",
    "        p.fit(self.features, transform='mean')\n",
    "    \n",
    "        \n",
    "        self.almost_equal(self.eigenvalues, p.eigenvalues)\n",
    "    \n",
    "    def test_cumulative_variance(self):\n",
    "        p = LinearPCA()\n",
    "        p.fit(self.features, transform='mean')\n",
    "        self.almost_equal(self.cumulative_variance, p.cumulative_variance)\n",
    "        \n",
    "    def test_components_init(self):\n",
    "        components = 5\n",
    "        p = LinearPCA(components)\n",
    "        self.assertEqual(components, p.components)\n",
    "    \n",
    "    def test_components_type(self):\n",
    "        components = 0.7\n",
    "        \n",
    "        \n",
    "        with self.assertRaises(ValueError):\n",
    "            p = LinearPCA(components)\n",
    "\n",
    "    def test_input_type(self):\n",
    "        string = '397302034'\n",
    "        lst = [2,3,4,51,9,12,0]\n",
    "        \n",
    "        with self.assertRaises(TypeError):\n",
    "            p = LinearPCA()\n",
    "            p.fit(string)\n",
    "        \n",
    "        with self.assertRaises(TypeError):\n",
    "            p = LinearPCA()\n",
    "            p.fit(lst)\n",
    "            \n",
    "    # delegate plot creation checking to this function in order to minimise redundancy\n",
    "    def plot_creation_checker(self, plot_type):\n",
    "        \n",
    "        p = LinearPCA()\n",
    "        p.fit(self.features, transform='mean')\n",
    "        try:\n",
    "            p.scree_plot(y=plot_type)\n",
    "            result = True\n",
    "        except KeyError as error:\n",
    "            result = False\n",
    "            print(error)\n",
    "            self.assertTrue(result)\n",
    "            \n",
    "    def test_total_variance_plot_creation(self):\n",
    "        self.plot_creation_checker('total_variance')\n",
    "\n",
    "    def test_eigenvalues_plot_creation(self):\n",
    "        self.plot_creation_checker('eigenvalues')\n",
    "    \n",
    "    def test_cumulative_plot_creation(self):\n",
    "        self.plot_creation_checker('cumulative')\n",
    "    \n",
    "    def test_scree_input_clean(self):\n",
    "        \n",
    "        p = LinearPCA()\n",
    "        p.fit(self.features, transform='mean')\n",
    "            \n",
    "        try:\n",
    "            p.scree_plot(y='CumulaTive ')\n",
    "            result = True\n",
    "        except KeyError as error:\n",
    "            result = False\n",
    "            print(error)\n",
    "            self.assertTrue(result)\n",
    "    \n",
    "    def test_scree_input_type(self):\n",
    "        \n",
    "        with self.assertRaises(KeyError):\n",
    "            p = LinearPCA()\n",
    "            p.fit(self.features)\n",
    "            p.scree_plot(y='random')\n",
    "    \n",
    "    def test_scree_variance_threshold(self):\n",
    "        p = LinearPCA()\n",
    "        p.fit(self.features, transform='mean')\n",
    "        \n",
    "        try:\n",
    "            p.scree_plot(y='cumulative', variance_threshold = -0.1)\n",
    "            result = False\n",
    "        except ValueError as error:\n",
    "            result = True\n",
    "            self.assertTrue(result)"
   ]
  },
  {
   "cell_type": "code",
   "execution_count": 12,
   "metadata": {},
   "outputs": [
    {
     "name": "stderr",
     "output_type": "stream",
     "text": [
      "test_components_init (__main__.TestLinearPCA) ... ok\n",
      "test_components_type (__main__.TestLinearPCA) ... ok\n",
      "test_cumulative_plot_creation (__main__.TestLinearPCA) ... ok\n",
      "test_cumulative_variance (__main__.TestLinearPCA) ... ok\n",
      "test_eigenvalues (__main__.TestLinearPCA) ... ok\n",
      "test_eigenvalues_plot_creation (__main__.TestLinearPCA) ... "
     ]
    },
    {
     "name": "stdout",
     "output_type": "stream",
     "text": [
      "Running setup\n",
      "Running teardown\n",
      "Running setup\n",
      "Running teardown\n",
      "Running setup\n",
      "Running teardown\n",
      "Running setup\n",
      "Running teardown\n",
      "Running setup\n",
      "Running teardown\n",
      "Running setup\n"
     ]
    },
    {
     "name": "stderr",
     "output_type": "stream",
     "text": [
      "ok\n",
      "test_input_type (__main__.TestLinearPCA) ... ok\n",
      "test_scree_input_clean (__main__.TestLinearPCA) ... ok\n",
      "test_scree_input_type (__main__.TestLinearPCA) ... ok\n",
      "test_scree_variance_threshold (__main__.TestLinearPCA) ... ok\n",
      "test_total_variance_explained (__main__.TestLinearPCA) ... ok\n",
      "test_total_variance_plot_creation (__main__.TestLinearPCA) ... "
     ]
    },
    {
     "name": "stdout",
     "output_type": "stream",
     "text": [
      "Running teardown\n",
      "Running setup\n",
      "Running teardown\n",
      "Running setup\n",
      "Running teardown\n",
      "Running setup\n",
      "Running teardown\n",
      "Running setup\n",
      "Running teardown\n",
      "Running setup\n",
      "Running teardown\n",
      "Running setup\n"
     ]
    },
    {
     "name": "stderr",
     "output_type": "stream",
     "text": [
      "ok\n",
      "\n",
      "----------------------------------------------------------------------\n",
      "Ran 12 tests in 0.461s\n",
      "\n",
      "OK\n"
     ]
    },
    {
     "name": "stdout",
     "output_type": "stream",
     "text": [
      "Running teardown\n"
     ]
    },
    {
     "data": {
      "image/png": "[encoded data removed]",
      "text/plain": [
       "<Figure size 432x288 with 1 Axes>"
      ]
     },
     "metadata": {
      "needs_background": "light"
     },
     "output_type": "display_data"
    },
    {
     "data": {
      "image/png": "[encoded data removed]",
      "text/plain": [
       "<Figure size 432x288 with 1 Axes>"
      ]
     },
     "metadata": {
      "needs_background": "light"
     },
     "output_type": "display_data"
    },
    {
     "data": {
      "image/png": "[encoded data removed]",
      "text/plain": [
       "<Figure size 432x288 with 1 Axes>"
      ]
     },
     "metadata": {
      "needs_background": "light"
     },
     "output_type": "display_data"
    },
    {
     "data": {
      "image/png": "[encoded data removed]",
      "text/plain": [
       "<Figure size 432x288 with 1 Axes>"
      ]
     },
     "metadata": {
      "needs_background": "light"
     },
     "output_type": "display_data"
    }
   ],
   "source": [
    "run_tests(TestLinearPCA)"
   ]
  },
  {
   "cell_type": "code",
   "execution_count": null,
   "metadata": {},
   "outputs": [],
   "source": []
  }
 ],
 "metadata": {
  "kernelspec": {
   "display_name": "Python 3",
   "language": "python",
   "name": "python3"
  },
  "language_info": {
   "codemirror_mode": {
    "name": "ipython",
    "version": 3
   },
   "file_extension": ".py",
   "mimetype": "text/x-python",
   "name": "python",
   "nbconvert_exporter": "python",
   "pygments_lexer": "ipython3",
   "version": "3.7.6"
  }
 },
 "nbformat": 4,
 "nbformat_minor": 4
}
